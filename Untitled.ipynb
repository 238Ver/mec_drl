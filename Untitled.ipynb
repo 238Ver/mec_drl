{
 "cells": [
  {
   "cell_type": "code",
   "execution_count": 1,
   "metadata": {},
   "outputs": [],
   "source": [
    "import numpy as np"
   ]
  },
  {
   "cell_type": "code",
   "execution_count": 5,
   "metadata": {},
   "outputs": [
    {
     "data": {
      "text/plain": [
       "[[0.0,\n",
       "  0.2857142857142857,\n",
       "  0.5714285714285714,\n",
       "  0.8571428571428571,\n",
       "  1.1428571428571428,\n",
       "  1.4285714285714284,\n",
       "  1.7142857142857142,\n",
       "  2.0],\n",
       " [0.0,\n",
       "  0.2857142857142857,\n",
       "  0.5714285714285714,\n",
       "  0.8571428571428571,\n",
       "  1.1428571428571428,\n",
       "  1.4285714285714284,\n",
       "  1.7142857142857142,\n",
       "  2.0]]"
      ]
     },
     "execution_count": 5,
     "metadata": {},
     "output_type": "execute_result"
    }
   ],
   "source": [
    "[[float(2)/(8-1)*i for i in range(8)] for j in range(2)]"
   ]
  },
  {
   "cell_type": "code",
   "execution_count": 6,
   "metadata": {},
   "outputs": [
    {
     "name": "stdout",
     "output_type": "stream",
     "text": [
      "[ 1.4918 13.7714]\n"
     ]
    }
   ],
   "source": [
    "res_dqn_08 = [\n",
    "#     [1.736,11.264],\n",
    "              [1.554,14.445],\n",
    "              [1.493,11.430],\n",
    "              [1.463,13.747],\n",
    "              [1.459,15.301],\n",
    "              [1.490,13.934]]\n",
    "print np.mean(res_dqn_08, axis=0)"
   ]
  },
  {
   "cell_type": "code",
   "execution_count": 5,
   "metadata": {},
   "outputs": [
    {
     "name": "stdout",
     "output_type": "stream",
     "text": [
      "[ 1.4998 12.9372]\n"
     ]
    }
   ],
   "source": [
    "res_dqn_06 = [[1.496,12.026],\n",
    "#               [1.526,25.636],\n",
    "              [1.496,10.841],\n",
    "              [1.510,15.379],\n",
    "              [1.459,15.301],\n",
    "              [1.538,11.139]]\n",
    "print np.mean(res_dqn_07, axis=0)"
   ]
  },
  {
   "cell_type": "code",
   "execution_count": 13,
   "metadata": {},
   "outputs": [
    {
     "data": {
      "text/plain": [
       "array([1.5, 2. , 2.5, 3. , 3.5, 4. ])"
      ]
     },
     "execution_count": 13,
     "metadata": {},
     "output_type": "execute_result"
    }
   ],
   "source": [
    "# for t=0.8 we want to know for each rate=[1.5:0.5:4]\n",
    "\n",
    "np.linspace(1.5,4,6)"
   ]
  },
  {
   "cell_type": "code",
   "execution_count": 14,
   "metadata": {},
   "outputs": [
    {
     "ename": "NameError",
     "evalue": "name 'plt' is not defined",
     "output_type": "error",
     "traceback": [
      "\u001b[0;31m---------------------------------------------------------------------------\u001b[0m",
      "\u001b[0;31mNameError\u001b[0m                                 Traceback (most recent call last)",
      "\u001b[0;32m<ipython-input-14-155d75ad7af6>\u001b[0m in \u001b[0;36m<module>\u001b[0;34m()\u001b[0m\n\u001b[1;32m      3\u001b[0m \u001b[0mx1\u001b[0m \u001b[0;34m=\u001b[0m \u001b[0;34m[\u001b[0m\u001b[0;36m5.415\u001b[0m\u001b[0;34m,\u001b[0m\u001b[0;36m7.957\u001b[0m\u001b[0;34m,\u001b[0m\u001b[0;36m9.51\u001b[0m\u001b[0;34m,\u001b[0m\u001b[0;36m11.463\u001b[0m\u001b[0;34m,\u001b[0m\u001b[0;36m18.243\u001b[0m\u001b[0;34m]\u001b[0m\u001b[0;34m\u001b[0m\u001b[0m\n\u001b[1;32m      4\u001b[0m \u001b[0my1\u001b[0m \u001b[0;34m=\u001b[0m \u001b[0;34m[\u001b[0m\u001b[0;36m1.549\u001b[0m\u001b[0;34m,\u001b[0m\u001b[0;36m1.494\u001b[0m\u001b[0;34m,\u001b[0m\u001b[0;36m1.456\u001b[0m\u001b[0;34m,\u001b[0m\u001b[0;36m1.455\u001b[0m\u001b[0;34m,\u001b[0m\u001b[0;36m1.435\u001b[0m\u001b[0;34m]\u001b[0m\u001b[0;34m\u001b[0m\u001b[0m\n\u001b[0;32m----> 5\u001b[0;31m \u001b[0mfig\u001b[0m \u001b[0;34m=\u001b[0m \u001b[0mplt\u001b[0m\u001b[0;34m.\u001b[0m\u001b[0mfigure\u001b[0m\u001b[0;34m(\u001b[0m\u001b[0;34m)\u001b[0m\u001b[0;34m\u001b[0m\u001b[0m\n\u001b[0m\u001b[1;32m      6\u001b[0m \u001b[0mplt\u001b[0m\u001b[0;34m.\u001b[0m\u001b[0mplot\u001b[0m\u001b[0;34m(\u001b[0m\u001b[0mx\u001b[0m\u001b[0;34m,\u001b[0m \u001b[0my\u001b[0m\u001b[0;34m,\u001b[0m \u001b[0mmarker\u001b[0m\u001b[0;34m=\u001b[0m\u001b[0;34m'o'\u001b[0m\u001b[0;34m,\u001b[0m \u001b[0mlabel\u001b[0m\u001b[0;34m=\u001b[0m\u001b[0;34m'DDPG, rate=3.0'\u001b[0m\u001b[0;34m)\u001b[0m\u001b[0;34m\u001b[0m\u001b[0m\n\u001b[1;32m      7\u001b[0m \u001b[0;34m\u001b[0m\u001b[0m\n",
      "\u001b[0;31mNameError\u001b[0m: name 'plt' is not defined"
     ]
    }
   ],
   "source": [
    "x = [4.456,5.29,6.514,6.761,9.432]\n",
    "y = [1.721,1.404,1.296,1.281,1.178]\n",
    "x1 = [5.415,7.957,9.51,11.463,18.243]\n",
    "y1 = [1.549,1.494,1.456,1.455,1.435]\n",
    "fig = plt.figure()\n",
    "plt.plot(x, y, marker='o', label='DDPG, rate=3.0')\n",
    "\n",
    "# marker='o', linestyle='dashed',\n",
    "# ...      linewidth=2, markersize=12\n",
    "\n",
    "plt.plot(x1, y1, marker='v', label='DDPG, rate=2.0')\n",
    "plt.grid(linestyle=':')\n",
    "plt.xlabel('Average Delay')\n",
    "plt.ylabel('Average Power')\n",
    "plt.show()"
   ]
  },
  {
   "cell_type": "code",
   "execution_count": null,
   "metadata": {},
   "outputs": [],
   "source": []
  }
 ],
 "metadata": {
  "kernelspec": {
   "display_name": "Python 2",
   "language": "python",
   "name": "python2"
  },
  "language_info": {
   "codemirror_mode": {
    "name": "ipython",
    "version": 2
   },
   "file_extension": ".py",
   "mimetype": "text/x-python",
   "name": "python",
   "nbconvert_exporter": "python",
   "pygments_lexer": "ipython2",
   "version": "2.7.10"
  }
 },
 "nbformat": 4,
 "nbformat_minor": 2
}
