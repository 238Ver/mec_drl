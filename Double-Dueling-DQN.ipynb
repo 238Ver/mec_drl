{
 "cells": [
  {
   "cell_type": "markdown",
   "metadata": {},
   "source": [
    "# Simple Reinforcement Learning with Tensorflow Part 4: Deep Q-Networks and Beyond\n",
    "\n",
    "In this iPython notebook I implement a Deep Q-Network using both Double DQN and Dueling DQN. The agent learn to solve a navigation task in a basic grid world. To learn more, read here: https://medium.com/p/8438a3e2b8df\n",
    "\n",
    "For more reinforcment learning tutorials, see:\n",
    "https://github.com/awjuliani/DeepRL-Agents"
   ]
  },
  {
   "cell_type": "code",
   "execution_count": 1,
   "metadata": {},
   "outputs": [
    {
     "name": "stdout",
     "output_type": "stream",
     "text": [
      "Automatic pdb calling has been turned ON\n"
     ]
    }
   ],
   "source": [
    "from __future__ import division\n",
    "\n",
    "import gym\n",
    "import numpy as np\n",
    "import random\n",
    "import tensorflow as tf\n",
    "import tensorflow.contrib.slim as slim\n",
    "import matplotlib.pyplot as plt\n",
    "import scipy.misc\n",
    "import os\n",
    "import ipdb as pdb\n",
    "%matplotlib inline\n",
    "%pdb on"
   ]
  },
  {
   "cell_type": "markdown",
   "metadata": {},
   "source": [
    "### Load the game environment"
   ]
  },
  {
   "cell_type": "markdown",
   "metadata": {},
   "source": [
    "Feel free to adjust the size of the gridworld. Making it smaller provides an easier task for our DQN agent, while making the world larger increases the challenge."
   ]
  },
  {
   "cell_type": "code",
   "execution_count": 2,
   "metadata": {
    "scrolled": false
   },
   "outputs": [
    {
     "name": "stderr",
     "output_type": "stream",
     "text": [
      "/System/Library/Frameworks/Python.framework/Versions/2.7/Extras/lib/python/scipy/misc/pilutil.py:413: FutureWarning: Conversion of the second argument of issubdtype from `int` to `np.signedinteger` is deprecated. In future, it will be treated as `np.int64 == np.dtype(int).type`.\n",
      "  if issubdtype(ts,int):\n",
      "/System/Library/Frameworks/Python.framework/Versions/2.7/Extras/lib/python/scipy/misc/pilutil.py:415: FutureWarning: Conversion of the second argument of issubdtype from `float` to `np.floating` is deprecated. In future, it will be treated as `np.float64 == np.dtype(float).type`.\n",
      "  elif issubdtype(type(size),float):\n"
     ]
    },
    {
     "data": {
      "image/png": "[encoded data removed]",
      "text/plain": [
       "<Figure size 432x288 with 1 Axes>"
      ]
     },
     "metadata": {},
     "output_type": "display_data"
    }
   ],
   "source": [
    "from gridworld import gameEnv\n",
    "\n",
    "env = gameEnv(partial=False,size=5)"
   ]
  },
  {
   "cell_type": "markdown",
   "metadata": {},
   "source": [
    "Above is an example of a starting environment in our simple game. The agent controls the blue square, and can move up, down, left, or right. The goal is to move to the green square (for +1 reward) and avoid the red square (for -1 reward). The position of the three blocks is randomized every episode."
   ]
  },
  {
   "cell_type": "markdown",
   "metadata": {},
   "source": [
    "### Implementing the network itself\n",
    "\n",
    "ipdb> self.conv1 <tf.Tensor 'Conv/Relu:0' shape=(?, 20, 20, 32) dtype=float32>\n",
    "\n",
    "ipdb> self.conv2 <tf.Tensor 'Conv_1/Relu:0' shape=(?, 9, 9, 64) dtype=float32>\n",
    "\n",
    "ipdb> self.conv3 <tf.Tensor 'Conv_2/Relu:0' shape=(?, 7, 7, 64) dtype=float32>\n",
    "\n",
    "ipdb> self.conv4 <tf.Tensor 'Conv_3/Relu:0' shape=(?, 1, 1, 512) dtype=float32>"
   ]
  },
  {
   "cell_type": "code",
   "execution_count": 3,
   "metadata": {},
   "outputs": [],
   "source": [
    "class Qnetwork():\n",
    "    def __init__(self,h_size):\n",
    "        #The network recieves a frame from the game, flattened into an array.\n",
    "        #It then resizes it and processes it through four convolutional layers.\n",
    "        self.scalarInput =  tf.placeholder(shape=[None,21168],dtype=tf.float32)\n",
    "        self.imageIn = tf.reshape(self.scalarInput,shape=[-1,84,84,3])\n",
    "        self.conv1 = slim.conv2d( \\\n",
    "            inputs=self.imageIn,num_outputs=32,kernel_size=[8,8],stride=[4,4],padding='VALID', biases_initializer=None)\n",
    "        self.conv2 = slim.conv2d( \\\n",
    "            inputs=self.conv1,num_outputs=64,kernel_size=[4,4],stride=[2,2],padding='VALID', biases_initializer=None)\n",
    "        self.conv3 = slim.conv2d( \\\n",
    "            inputs=self.conv2,num_outputs=64,kernel_size=[3,3],stride=[1,1],padding='VALID', biases_initializer=None)\n",
    "        self.conv4 = slim.conv2d( \\\n",
    "            inputs=self.conv3,num_outputs=h_size,kernel_size=[7,7],stride=[1,1],padding='VALID', biases_initializer=None)\n",
    "        \n",
    "        #pdb.set_trace()\n",
    "        \n",
    "        #We take the output from the final convolutional layer and split it into separate advantage and value streams.\n",
    "        self.streamAC,self.streamVC = tf.split(self.conv4,2,3) #split the original into two equal-sized tensor\n",
    "        self.streamA = slim.flatten(self.streamAC)\n",
    "        self.streamV = slim.flatten(self.streamVC)\n",
    "        xavier_init = tf.contrib.layers.xavier_initializer()\n",
    "        self.AW = tf.Variable(xavier_init([h_size//2,env.actions]))\n",
    "        self.VW = tf.Variable(xavier_init([h_size//2,1]))\n",
    "        self.Advantage = tf.matmul(self.streamA,self.AW)\n",
    "        self.Value = tf.matmul(self.streamV,self.VW)\n",
    "        \n",
    "        #Then combine them together to get our final Q-values.\n",
    "        self.Qout = self.Value + tf.subtract(self.Advantage,tf.reduce_mean(self.Advantage,axis=1,keep_dims=True))\n",
    "        self.predict = tf.argmax(self.Qout,1)\n",
    "        \n",
    "        #Below we obtain the loss by taking the sum of squares difference between the target and prediction Q values.\n",
    "        self.targetQ = tf.placeholder(shape=[None],dtype=tf.float32)\n",
    "        self.actions = tf.placeholder(shape=[None],dtype=tf.int32)\n",
    "        self.actions_onehot = tf.one_hot(self.actions,env.actions,dtype=tf.float32)\n",
    "        \n",
    "        self.Q = tf.reduce_sum(tf.multiply(self.Qout, self.actions_onehot), axis=1)\n",
    "        \n",
    "        self.td_error = tf.square(self.targetQ - self.Q)\n",
    "        self.loss = tf.reduce_mean(self.td_error)\n",
    "        self.trainer = tf.train.AdamOptimizer(learning_rate=0.0001)\n",
    "        self.updateModel = self.trainer.minimize(self.loss)"
   ]
  },
  {
   "cell_type": "markdown",
   "metadata": {},
   "source": [
    "### Experience Replay"
   ]
  },
  {
   "cell_type": "markdown",
   "metadata": {},
   "source": [
    "This class allows us to store experies and sample then randomly to train the network."
   ]
  },
  {
   "cell_type": "code",
   "execution_count": 4,
   "metadata": {},
   "outputs": [],
   "source": [
    "class experience_buffer():\n",
    "    def __init__(self, buffer_size = 50000):\n",
    "        self.buffer = []\n",
    "        self.buffer_size = buffer_size\n",
    "    \n",
    "    def add(self,experience):\n",
    "        if len(self.buffer) + len(experience) >= self.buffer_size:\n",
    "            self.buffer[0:(len(experience)+len(self.buffer))-self.buffer_size] = []\n",
    "#             pdb.set_trace()\n",
    "        self.buffer.extend(experience)\n",
    "            \n",
    "    def sample(self,size):\n",
    "        return np.reshape(np.array(random.sample(self.buffer,size)),[size,5])"
   ]
  },
  {
   "cell_type": "markdown",
   "metadata": {},
   "source": [
    "This is a simple function to resize our game frames."
   ]
  },
  {
   "cell_type": "code",
   "execution_count": 5,
   "metadata": {},
   "outputs": [],
   "source": [
    "def processState(states):\n",
    "    return np.reshape(states,[21168])"
   ]
  },
  {
   "cell_type": "markdown",
   "metadata": {},
   "source": [
    "These functions allow us to update the parameters of our target network with those of the primary network."
   ]
  },
  {
   "cell_type": "code",
   "execution_count": 6,
   "metadata": {},
   "outputs": [],
   "source": [
    "def updateTargetGraph(tfVars,tau):\n",
    "    total_vars = len(tfVars)\n",
    "    op_holder = []\n",
    "    for idx,var in enumerate(tfVars[0:total_vars//2]):\n",
    "        op_holder.append(tfVars[idx+total_vars//2].assign((var.value()*tau) + ((1-tau)*tfVars[idx+total_vars//2].value())))\n",
    "    return op_holder\n",
    "\n",
    "def updateTarget(op_holder,sess):\n",
    "    for op in op_holder:\n",
    "        sess.run(op)"
   ]
  },
  {
   "cell_type": "markdown",
   "metadata": {},
   "source": [
    "### Training the network"
   ]
  },
  {
   "cell_type": "markdown",
   "metadata": {},
   "source": [
    "Setting all the training parameters"
   ]
  },
  {
   "cell_type": "code",
   "execution_count": 7,
   "metadata": {},
   "outputs": [],
   "source": [
    "batch_size = 32 #How many experiences to use for each training step.\n",
    "update_freq = 4 #How often to perform a training step.\n",
    "y = .99 #Discount factor on the target Q-values\n",
    "startE = 1 #Starting chance of random action\n",
    "endE = 0.1 #Final chance of random action\n",
    "annealing_steps = 10000. #How many steps of training to reduce startE to endE.\n",
    "num_episodes = 10000 #How many episodes of game environment to train network with.\n",
    "pre_train_steps = 10000 #How many steps of random actions before training begins.\n",
    "max_epLength = 50 #The max allowed length of our episode.\n",
    "load_model = False #Whether to load a saved model.\n",
    "path = \"./dqn\" #The path to save our model to.\n",
    "h_size = 512 #The size of the final convolutional layer before splitting it into Advantage and Value streams.\n",
    "tau = 0.001 #Rate to update target network toward primary network"
   ]
  },
  {
   "cell_type": "code",
   "execution_count": null,
   "metadata": {
    "scrolled": false
   },
   "outputs": [
    {
     "name": "stdout",
     "output_type": "stream",
     "text": [
      "WARNING:tensorflow:From <ipython-input-3-ba09f7215390>:25: calling reduce_mean (from tensorflow.python.ops.math_ops) with keep_dims is deprecated and will be removed in a future version.\n",
      "Instructions for updating:\n",
      "keep_dims is deprecated, use keepdims instead\n",
      "Saved Model\n",
      "(500, 2.0, 1)\n",
      "(1000, 1.8, 1)\n",
      "(1500, 2.6, 1)\n",
      "(2000, 2.0, 1)\n",
      "(2500, 2.0, 1)\n",
      "(3000, 1.2, 1)\n",
      "(3500, 1.6, 1)\n",
      "(4000, 1.2, 1)\n",
      "(4500, 1.8, 1)\n",
      "(5000, 2.5, 1)\n",
      "(5500, 3.1, 1)\n",
      "(6000, 0.4, 1)\n",
      "(6500, 2.3, 1)\n",
      "(7000, 1.8, 1)\n",
      "(7500, 3.5, 1)\n",
      "(8000, 1.7, 1)\n",
      "(8500, 1.4, 1)\n",
      "(9000, 1.7, 1)\n",
      "(9500, 1.7, 1)\n",
      "(10000, 0.7, 1)\n",
      "(10500, 2.6, 0.9549999999999828)\n",
      "(11000, 0.4, 0.9099999999999655)\n",
      "(11500, 2.0, 0.8649999999999483)\n",
      "(12000, 1.7, 0.819999999999931)\n",
      "(12500, 2.3, 0.7749999999999138)\n",
      "(13000, 0.7, 0.7299999999998965)\n",
      "(13500, 0.9, 0.6849999999998793)\n",
      "(14000, 3.1, 0.639999999999862)\n",
      "(14500, 1.8, 0.5949999999998448)\n",
      "(15000, 2.2, 0.5499999999998275)\n",
      "(15500, 1.1, 0.5049999999998103)\n",
      "(16000, 2.5, 0.4599999999998177)\n",
      "(16500, 2.5, 0.41499999999982823)\n",
      "(17000, 4.0, 0.36999999999983874)\n",
      "(17500, 2.0, 0.32499999999984924)\n",
      "(18000, 4.0, 0.27999999999985975)\n",
      "(18500, 3.1, 0.23499999999986562)\n",
      "(19000, 2.9, 0.18999999999986225)\n",
      "(19500, 1.7, 0.14499999999985888)\n",
      "(20000, 1.6, 0.09999999999985551)\n",
      "(20500, 3.1, 0.09999999999985551)\n",
      "(21000, 3.7, 0.09999999999985551)\n",
      "(21500, 5.2, 0.09999999999985551)\n",
      "(22000, 3.5, 0.09999999999985551)\n",
      "(22500, 4.4, 0.09999999999985551)\n",
      "(23000, 6.4, 0.09999999999985551)\n",
      "(23500, 4.3, 0.09999999999985551)\n",
      "(24000, 4.8, 0.09999999999985551)\n",
      "(24500, 4.3, 0.09999999999985551)\n",
      "(25000, 4.3, 0.09999999999985551)\n",
      "(25500, 5.5, 0.09999999999985551)\n",
      "(26000, 6.4, 0.09999999999985551)\n",
      "(26500, 5.8, 0.09999999999985551)\n",
      "(27000, 5.6, 0.09999999999985551)\n",
      "(27500, 7.4, 0.09999999999985551)\n",
      "(28000, 9.5, 0.09999999999985551)\n",
      "(28500, 10.0, 0.09999999999985551)\n",
      "(29000, 7.0, 0.09999999999985551)\n",
      "(29500, 12.0, 0.09999999999985551)\n",
      "(30000, 7.8, 0.09999999999985551)\n",
      "(30500, 11.0, 0.09999999999985551)\n",
      "(31000, 14.3, 0.09999999999985551)\n",
      "(31500, 8.6, 0.09999999999985551)\n",
      "(32000, 11.8, 0.09999999999985551)\n",
      "(32500, 15.7, 0.09999999999985551)\n",
      "(33000, 13.5, 0.09999999999985551)\n",
      "(33500, 11.4, 0.09999999999985551)\n",
      "(34000, 12.5, 0.09999999999985551)\n",
      "(34500, 14.4, 0.09999999999985551)\n",
      "(35000, 15.1, 0.09999999999985551)\n",
      "(35500, 17.5, 0.09999999999985551)\n",
      "(36000, 16.4, 0.09999999999985551)\n",
      "(36500, 15.4, 0.09999999999985551)\n",
      "(37000, 16.8, 0.09999999999985551)\n",
      "(37500, 19.7, 0.09999999999985551)\n",
      "(38000, 18.6, 0.09999999999985551)\n",
      "(38500, 18.0, 0.09999999999985551)\n",
      "(39000, 18.0, 0.09999999999985551)\n",
      "(39500, 17.3, 0.09999999999985551)\n",
      "(40000, 19.8, 0.09999999999985551)\n",
      "(40500, 18.6, 0.09999999999985551)\n",
      "(41000, 20.5, 0.09999999999985551)\n",
      "(41500, 19.2, 0.09999999999985551)\n",
      "(42000, 16.5, 0.09999999999985551)\n",
      "(42500, 20.3, 0.09999999999985551)\n",
      "(43000, 20.0, 0.09999999999985551)\n",
      "(43500, 21.2, 0.09999999999985551)\n",
      "(44000, 19.8, 0.09999999999985551)\n",
      "(44500, 20.7, 0.09999999999985551)\n",
      "(45000, 21.9, 0.09999999999985551)\n",
      "(45500, 20.0, 0.09999999999985551)\n",
      "(46000, 21.5, 0.09999999999985551)\n",
      "(46500, 19.9, 0.09999999999985551)\n",
      "(47000, 20.1, 0.09999999999985551)\n",
      "(47500, 18.4, 0.09999999999985551)\n",
      "(48000, 21.2, 0.09999999999985551)\n",
      "(48500, 18.7, 0.09999999999985551)\n",
      "(49000, 21.2, 0.09999999999985551)\n",
      "(49500, 21.6, 0.09999999999985551)\n",
      "(50000, 20.4, 0.09999999999985551)\n",
      "Saved Model\n",
      "(50500, 19.0, 0.09999999999985551)\n",
      "(51000, 18.4, 0.09999999999985551)\n",
      "(51500, 17.8, 0.09999999999985551)\n",
      "(52000, 18.1, 0.09999999999985551)\n",
      "(52500, 22.7, 0.09999999999985551)\n",
      "(53000, 20.6, 0.09999999999985551)\n",
      "(53500, 18.9, 0.09999999999985551)\n",
      "(54000, 21.2, 0.09999999999985551)\n",
      "(54500, 22.9, 0.09999999999985551)\n",
      "(55000, 20.9, 0.09999999999985551)\n",
      "(55500, 22.4, 0.09999999999985551)\n",
      "(56000, 22.5, 0.09999999999985551)\n",
      "(56500, 21.5, 0.09999999999985551)\n",
      "(57000, 21.3, 0.09999999999985551)\n",
      "(57500, 23.5, 0.09999999999985551)\n",
      "(58000, 21.3, 0.09999999999985551)\n",
      "(58500, 21.2, 0.09999999999985551)\n",
      "(59000, 21.9, 0.09999999999985551)\n",
      "(59500, 23.7, 0.09999999999985551)\n",
      "(60000, 23.3, 0.09999999999985551)\n",
      "(60500, 18.2, 0.09999999999985551)\n",
      "(61000, 22.9, 0.09999999999985551)\n"
     ]
    }
   ],
   "source": [
    "tf.reset_default_graph()\n",
    "mainQN = Qnetwork(h_size)\n",
    "targetQN = Qnetwork(h_size)\n",
    "\n",
    "init = tf.global_variables_initializer()\n",
    "\n",
    "saver = tf.train.Saver()\n",
    "\n",
    "trainables = tf.trainable_variables()\n",
    "\n",
    "targetOps = updateTargetGraph(trainables,tau) #update target network's parameters with primary netowrk's\n",
    "\n",
    "myBuffer = experience_buffer()\n",
    "\n",
    "#Set the rate of random action decrease. \n",
    "e = startE\n",
    "stepDrop = (startE - endE)/annealing_steps\n",
    "\n",
    "#create lists to contain total rewards and steps per episode\n",
    "jList = []\n",
    "rList = []\n",
    "total_steps = 0\n",
    "\n",
    "#Make a path for our model to be saved in.\n",
    "if not os.path.exists(path):\n",
    "    os.makedirs(path)\n",
    "\n",
    "with tf.Session() as sess:\n",
    "    sess.run(init)\n",
    "    if load_model == True:\n",
    "        print('Loading Model...')\n",
    "        ckpt = tf.train.get_checkpoint_state(path)\n",
    "        saver.restore(sess,ckpt.model_checkpoint_path)\n",
    "    for i in range(num_episodes):\n",
    "        episodeBuffer = experience_buffer()\n",
    "        #Reset environment and get first new observation\n",
    "        s = env.reset()\n",
    "        s = processState(s)\n",
    "        d = False\n",
    "        rAll = 0\n",
    "        j = 0\n",
    "        #The Q-Network\n",
    "        while j < max_epLength: #If the agent takes longer than 200 moves to reach either of the blocks, end the trial.\n",
    "            j+=1\n",
    "            #Choose an action by greedily (with e chance of random action) from the Q-network\n",
    "            if np.random.rand(1) < e or total_steps < pre_train_steps:\n",
    "                a = np.random.randint(0,4)\n",
    "            else:\n",
    "                a = sess.run(mainQN.predict,feed_dict={mainQN.scalarInput:[s]})[0]\n",
    "            s1,r,d = env.step(a)\n",
    "            s1 = processState(s1)\n",
    "            total_steps += 1\n",
    "            episodeBuffer.add(np.reshape(np.array([s,a,r,s1,d]),[1,5])) #Save the experience to our episode buffer.\n",
    "            \n",
    "#             pdb.set_trace()\n",
    "            \n",
    "            if total_steps > pre_train_steps:\n",
    "                if e > endE:\n",
    "                    e -= stepDrop\n",
    "                \n",
    "                if total_steps % (update_freq) == 0:\n",
    "                    trainBatch = myBuffer.sample(batch_size) #Get a random batch of experiences.\n",
    "                    #Below we perform the Double-DQN update to the target Q-values\n",
    "                    Q1 = sess.run(mainQN.predict,feed_dict={mainQN.scalarInput:np.vstack(trainBatch[:,3])})\n",
    "                    Q2 = sess.run(targetQN.Qout,feed_dict={targetQN.scalarInput:np.vstack(trainBatch[:,3])})\n",
    "                    end_multiplier = -(trainBatch[:,4] - 1)\n",
    "                    doubleQ = Q2[range(batch_size),Q1]\n",
    "                    targetQ = trainBatch[:,2] + (y*doubleQ * end_multiplier)\n",
    "                    #Update the network with our target values.\n",
    "                    _ = sess.run(mainQN.updateModel, \\\n",
    "                        feed_dict={mainQN.scalarInput:np.vstack(trainBatch[:,0]),mainQN.targetQ:targetQ, mainQN.actions:trainBatch[:,1]})\n",
    "                    \n",
    "                    updateTarget(targetOps,sess) #Update the target network toward the primary network.\n",
    "            rAll += r\n",
    "            s = s1\n",
    "            \n",
    "            if d == True:\n",
    "\n",
    "                break\n",
    "        \n",
    "        myBuffer.add(episodeBuffer.buffer)\n",
    "        jList.append(j)\n",
    "        rList.append(rAll)\n",
    "        #Periodically save the model. \n",
    "        if i % 1000 == 0:\n",
    "            saver.save(sess,path+'/model-'+str(i)+'.ckpt')\n",
    "            print(\"Saved Model\")\n",
    "        if len(rList) % 10 == 0:\n",
    "            print(total_steps,np.mean(rList[-10:]), e)\n",
    "    saver.save(sess,path+'/model-'+str(i)+'.ckpt')\n",
    "print(\"Percent of succesful episodes: \" + str(sum(rList)/num_episodes) + \"%\")"
   ]
  },
  {
   "cell_type": "markdown",
   "metadata": {},
   "source": [
    "### Checking network learning"
   ]
  },
  {
   "cell_type": "markdown",
   "metadata": {},
   "source": [
    "Mean reward over time"
   ]
  },
  {
   "cell_type": "code",
   "execution_count": null,
   "metadata": {},
   "outputs": [],
   "source": [
    "rMat = np.resize(np.array(rList),[len(rList)//100,100])\n",
    "rMean = np.average(rMat,1)\n",
    "plt.plot(rMean)"
   ]
  },
  {
   "cell_type": "code",
   "execution_count": 36,
   "metadata": {},
   "outputs": [
    {
     "data": {
      "text/plain": [
       "[24.0, 23.0, 26.0, 28.0, 25.0, 23.0, 25.0, 23.0, 17.0]"
      ]
     },
     "execution_count": 36,
     "metadata": {},
     "output_type": "execute_result"
    }
   ],
   "source": [
    "rList[-10:-1]"
   ]
  },
  {
   "cell_type": "code",
   "execution_count": 39,
   "metadata": {},
   "outputs": [
    {
     "data": {
      "text/plain": [
       "[24.0, 23.0, 26.0, 28.0, 25.0, 23.0, 25.0, 23.0, 17.0, 22.0]"
      ]
     },
     "execution_count": 39,
     "metadata": {},
     "output_type": "execute_result"
    }
   ],
   "source": [
    "rList[-10:]"
   ]
  },
  {
   "cell_type": "code",
   "execution_count": null,
   "metadata": {},
   "outputs": [],
   "source": []
  }
 ],
 "metadata": {
  "anaconda-cloud": {},
  "kernelspec": {
   "display_name": "Python 2",
   "language": "python",
   "name": "python2"
  },
  "language_info": {
   "codemirror_mode": {
    "name": "ipython",
    "version": 2
   },
   "file_extension": ".py",
   "mimetype": "text/x-python",
   "name": "python",
   "nbconvert_exporter": "python",
   "pygments_lexer": "ipython2",
   "version": "2.7.10"
  }
 },
 "nbformat": 4,
 "nbformat_minor": 1
}
